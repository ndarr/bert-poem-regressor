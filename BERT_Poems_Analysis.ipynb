{
  "nbformat": 4,
  "nbformat_minor": 0,
  "metadata": {
    "colab": {
      "name": "BERT_Poems_Analysis.ipynb",
      "private_outputs": true,
      "provenance": [],
      "collapsed_sections": [],
      "mount_file_id": "1KmqBdlU_2HPjSwoJESQssHWc_Z_pBtcL",
      "authorship_tag": "ABX9TyM0elhsD2GoxfLcuZAWPQ1c",
      "include_colab_link": true
    },
    "kernelspec": {
      "name": "python3",
      "display_name": "Python 3"
    }
  },
  "cells": [
    {
      "cell_type": "markdown",
      "metadata": {
        "id": "view-in-github",
        "colab_type": "text"
      },
      "source": [
        "<a href=\"https://colab.research.google.com/github/ndarr/bert-poem-regressor/blob/main/BERT_Poems_Analysis.ipynb\" target=\"_parent\"><img src=\"https://colab.research.google.com/assets/colab-badge.svg\" alt=\"Open In Colab\"/></a>"
      ]
    },
    {
      "cell_type": "code",
      "metadata": {
        "id": "lvftYKQY2r_G"
      },
      "source": [
        "from os import listdir\n",
        "from os.path import join\n",
        "from json import loads\n",
        "\n",
        "import matplotlib.pyplot as plt\n",
        "\n",
        "loss_folder = \"losses/\"\n",
        "bert = \"bert-large\"\n",
        "loss_files = [join(loss_folder,filename) for filename in listdir(loss_folder) if f\"{bert}_model_losses\" in filename and filename.endswith(\".txt\")]\n",
        "test_loss_files = [join(loss_folder,filename) for filename in listdir(loss_folder) if f\"{bert}_test_losses\" in filename and filename.endswith(\".txt\")]\n",
        "\n",
        "\n",
        "losses = {}\n",
        "test_losses = {}\n",
        "epochs = [i for i in range(1,11)]\n",
        "print(epochs)\n",
        "\n",
        "\n",
        "# Read all losses into one dictionary\n",
        "for filename in loss_files:\n",
        "    with open(filename, \"r\") as f:\n",
        "        file_content = f.read().strip()[1:-1].split(\", \")\n",
        "        print(file_content)\n",
        "        losses_per_epoch = [float(epoch_loss.split(\": \")[1]) for epoch_loss in file_content]\n",
        "    category = filename.replace(f\"{bert}_model_losses_\", \"\").replace(\".txt\", \"\").replace(loss_folder, \"\")\n",
        "    losses[category] = losses_per_epoch\n",
        "\n",
        "# Read all test losses into one dictionary\n",
        "for filename in test_loss_files:\n",
        "    with open(filename, \"r\") as f:\n",
        "        file_content = f.read().strip()[1:-1].split(\", \")\n",
        "        print(file_content)\n",
        "        losses_per_epoch = [float(epoch_loss.split(\": \")[1]) for epoch_loss in file_content]\n",
        "    category = filename.replace(f\"{bert}_test_losses_\", \"\").replace(\".txt\", \"\").replace(loss_folder, \"\")\n",
        "    test_losses[category] = losses_per_epoch\n",
        "\n"
      ],
      "execution_count": null,
      "outputs": []
    },
    {
      "cell_type": "code",
      "metadata": {
        "id": "Ge9fwox4Csj2"
      },
      "source": [
        "categories = list(losses.keys())\n",
        "\n",
        "# Plot the losses with the testlosses per epoch for each category\n",
        "for cat in categories:\n",
        "    plt.xlabel(\"epochs\")\n",
        "    plt.ylabel(\"MAE\")\n",
        "    plt.title(f\"{bert} - {cat}\")\n",
        "    plt.scatter(epochs, losses[cat], marker=\"x\", label=\"train\")\n",
        "    plt.plot(epochs, losses[cat])\n",
        "    plt.scatter(epochs, test_losses[cat], marker=\"x\", label=\"test\")\n",
        "    plt.plot(epochs, test_losses[cat])\n",
        "    plt.legend()\n",
        "    plt.savefig(join(loss_folder,f'{bert}_{cat}.png'))\n",
        "    plt.show()\n"
      ],
      "execution_count": null,
      "outputs": []
    },
    {
      "cell_type": "code",
      "metadata": {
        "id": "Io_dhExFCW-a"
      },
      "source": [
        "# Get only the BWS categories \n",
        "bws_cats = [cat for cat in categories if \"bws\" in cat]\n",
        "plt.xlabel(\"epochs\")\n",
        "plt.ylabel(\"MAE\")\n",
        "plt.title(f\"{bert} - MaxDiff\")\n",
        "for cat in bws_cats:\n",
        "    # Remove the preceeding method name and only take the category name\n",
        "    cat_label = cat.split(\"_\")[1]\n",
        "    plt.scatter(epochs, losses[cat], marker=\"x\", label=cat_label)\n",
        "    plt.plot(epochs, losses[cat])\n",
        "# Move legend to the right of the plot that plot and legend do not overlap\n",
        "plt.legend(bbox_to_anchor=(1.05, 1), loc='upper left')\n",
        "plt.savefig(join(loss_folder, f\"{bert}_bws_overview.png\"), bbox_inches='tight')\n",
        "plt.show()"
      ],
      "execution_count": null,
      "outputs": []
    },
    {
      "cell_type": "code",
      "metadata": {
        "id": "5hXlFSLCbrx2"
      },
      "source": [
        "# Get only the crowdGPPL categories\n",
        "crowdgppl_cats = [cat for cat in categories if \"crowdgppl\" in cat]\n",
        "plt.title(f\"{bert} - crowdGPPL\")\n",
        "plt.xlabel(\"epochs\")\n",
        "plt.ylabel(\"MAE\")\n",
        "for cat in crowdgppl_cats:\n",
        "    # Remove the preceeding method name and only take the category name\n",
        "    cat_label = cat.split(\"_\")[1]\n",
        "    plt.scatter(epochs, losses[cat], marker=\"x\", label=cat_label)\n",
        "    plt.plot(epochs, losses[cat])\n",
        "# Move legend to the right of the plot that plot and legend do not overlap\n",
        "plt.legend(bbox_to_anchor=(1.05, 1), loc='upper left')\n",
        "plt.savefig(join(loss_folder, f\"{bert}_crowdgppl_overview.png\"),bbox_inches='tight')\n",
        "plt.show()"
      ],
      "execution_count": null,
      "outputs": []
    }
  ]
}